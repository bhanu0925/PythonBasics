{
 "cells": [
  {
   "cell_type": "markdown",
   "metadata": {},
   "source": [
    "## PythonAssignment_2"
   ]
  },
  {
   "cell_type": "markdown",
   "metadata": {},
   "source": [
    "## 1.What are the two values of the Boolean data type? How do you write them?\n"
   ]
  },
  {
   "cell_type": "markdown",
   "metadata": {},
   "source": [
    "#### Asnwer: The two boolean types in python are True and False\n",
    "\n",
    "    - They are written as \n",
    "    - boolA =True\n",
    "    - boolB = False\n",
    "    "
   ]
  },
  {
   "cell_type": "markdown",
   "metadata": {},
   "source": [
    "## 2. What are the three different types of Boolean operators?\n",
    "\n",
    "#### Answer :\n",
    "#### There are mainly three types of logical operators in python : logical AND, logical OR and logical NOT. They are used in the code as and,or and not\n",
    "\n"
   ]
  },
  {
   "cell_type": "markdown",
   "metadata": {},
   "source": [
    "## 3. Make a list of each Boolean operator&#39;s truth tables (i.e. every possible combination of Boolean values for the operator and what it evaluate ).\n"
   ]
  },
  {
   "cell_type": "code",
   "execution_count": 9,
   "metadata": {},
   "outputs": [
    {
     "name": "stdout",
     "output_type": "stream",
     "text": [
      "\n",
      "The AND operator truth table\n",
      " A  B AandB\n",
      "[0, 0, 0]\n",
      "[0, 1, 0]\n",
      "[1, 1, 1]\n",
      "\n",
      "The OR operator truth table\n",
      " A  B AorB\n",
      "[0, 0, 0]\n",
      "[0, 1, 1]\n",
      "[1, 1, 1]\n",
      "\n",
      "The NOT operator truth table\n",
      " A notA\n",
      "[0, 1]\n",
      "[1, 0]\n"
     ]
    }
   ],
   "source": [
    "andList = [[0, 0 ,0],[0,1,0],[1,1,1]]\n",
    "\n",
    "print(\"\\nThe AND operator truth table\")\n",
    "print(\" A  B AandB\")\n",
    "for i in andList:\n",
    "    print(i)\n",
    "    \n",
    "orList = [[0, 0 ,0],[0,1,1],[1,1,1]]\n",
    "\n",
    "print(\"\\nThe OR operator truth table\")\n",
    "print(\" A  B AorB\")\n",
    "for i in orList:\n",
    "    print(i)\n",
    "    \n",
    "notList = [[0, 1],[1,0]]\n",
    "\n",
    "print(\"\\nThe NOT operator truth table\")\n",
    "print(\" A notA\")\n",
    "for i in notList:\n",
    "    print(i)"
   ]
  },
  {
   "cell_type": "markdown",
   "metadata": {},
   "source": [
    "### 4. What are the values of the following expressions?\n",
    "        - (5 > 4) and (3 == 5) \n",
    "        - not (5 > 4)\n",
    "        - (5 > 4) or (3 == 5)\n",
    "        - not ((5 > 4) or (3 == 5))\n",
    "        - (True and True) and (True == False)\n",
    "        - (not False) or (not True)\n"
   ]
  },
  {
   "cell_type": "markdown",
   "metadata": {},
   "source": [
    "#### Answers:\n",
    "    - (5 > 4) and (3 == 5)  - > True and False = False\n",
    "    - not (5 > 4) -> not(True) = False\n",
    "    - (5 > 4) or (3 == 5) -> True or False = True\n",
    "    - not ((5 > 4) or (3 == 5)) -> not(True) - >False\n",
    "    - (True and True) and (True == False) - > (True) and (False) = False\n",
    "    - (not False) or (not True) -> True or False = True"
   ]
  },
  {
   "cell_type": "code",
   "execution_count": 11,
   "metadata": {},
   "outputs": [
    {
     "data": {
      "text/plain": [
       "False"
      ]
     },
     "execution_count": 11,
     "metadata": {},
     "output_type": "execute_result"
    }
   ],
   "source": [
    "(5 > 4) and (3 == 5) \n"
   ]
  },
  {
   "cell_type": "code",
   "execution_count": 12,
   "metadata": {},
   "outputs": [
    {
     "data": {
      "text/plain": [
       "False"
      ]
     },
     "execution_count": 12,
     "metadata": {},
     "output_type": "execute_result"
    }
   ],
   "source": [
    "not (5 > 4)\n"
   ]
  },
  {
   "cell_type": "code",
   "execution_count": 13,
   "metadata": {},
   "outputs": [
    {
     "data": {
      "text/plain": [
       "True"
      ]
     },
     "execution_count": 13,
     "metadata": {},
     "output_type": "execute_result"
    }
   ],
   "source": [
    "(5 > 4) or (3 == 5)\n"
   ]
  },
  {
   "cell_type": "code",
   "execution_count": 14,
   "metadata": {},
   "outputs": [
    {
     "data": {
      "text/plain": [
       "False"
      ]
     },
     "execution_count": 14,
     "metadata": {},
     "output_type": "execute_result"
    }
   ],
   "source": [
    "not ((5 > 4) or (3 == 5))\n"
   ]
  },
  {
   "cell_type": "code",
   "execution_count": 15,
   "metadata": {},
   "outputs": [
    {
     "data": {
      "text/plain": [
       "False"
      ]
     },
     "execution_count": 15,
     "metadata": {},
     "output_type": "execute_result"
    }
   ],
   "source": [
    "(True and True) and (True == False)\n"
   ]
  },
  {
   "cell_type": "code",
   "execution_count": 16,
   "metadata": {},
   "outputs": [
    {
     "data": {
      "text/plain": [
       "True"
      ]
     },
     "execution_count": 16,
     "metadata": {},
     "output_type": "execute_result"
    }
   ],
   "source": [
    "(not False) or (not True)"
   ]
  },
  {
   "cell_type": "markdown",
   "metadata": {},
   "source": [
    "### 5. What are the six comparison operators?\n",
    "\n",
    "#### Answer: Following are 6 comparision operator in Python\n",
    "\n",
    "    == -> Equal \n",
    "    != -> Not equal\n",
    "    > -> Greater than\n",
    "    < -> Less than\n",
    "    >= -> Greater than or equal to\n",
    "    <= -> Less than or equal to\n"
   ]
  },
  {
   "cell_type": "markdown",
   "metadata": {},
   "source": [
    "### 6. How do you tell the difference between the equal to and assignment operators?Describe a condition and when you would use one.\n",
    "\n",
    "#### Answer \n",
    " \n",
    "    Assignment operator \"=\"\n",
    "    It is an assignment operator.\n",
    "    It is used for assigning the value to a variable.\n",
    "    example a = 10, str = \"Bhanu\"\n",
    "    Constant term cannot be placed on left hand side.\n",
    "    Example: 1=x; is invalid.\n",
    "    \n",
    "    Equal to Operator \"==\"\n",
    "    It is a relational or comparison operator\n",
    "    It is used for comparing two values. It returns 1 if both the values are equal otherwise returns 0.\n",
    "    Constant term can be placed in the left hand side.\n",
    "    Example: 1==1 is valid and returns 1.\n",
    "    \n",
    "    example :\n",
    "    \n",
    "    x=10\n",
    "    y=10\n",
    "\n",
    "    if x==y:\n",
    "        print(\"True\")\n",
    "    else:\n",
    "        print(\"False\")\n",
    "    \n",
    "    \n"
   ]
  },
  {
   "cell_type": "code",
   "execution_count": 18,
   "metadata": {},
   "outputs": [
    {
     "name": "stdout",
     "output_type": "stream",
     "text": [
      "True\n"
     ]
    }
   ],
   "source": [
    "x=10\n",
    "y=10\n",
    "\n",
    "if x==y:\n",
    "    print(\"True\")\n",
    "else:\n",
    "    print(\"False\")"
   ]
  },
  {
   "cell_type": "markdown",
   "metadata": {},
   "source": [
    "### 7. Identify the three blocks in this code:\n",
    "\n",
    "    spam = 0  # \n",
    "    \n",
    "    if spam == 10:\n",
    "        print(\"eggs\")  \n",
    "        \n",
    "    if spam > 5:\n",
    "        print(\"bacon\")\n",
    "    else:\n",
    "        print(\"ham\")\n",
    "        print(\"spam\")\n",
    "        print(\"spam\")\n"
   ]
  },
  {
   "cell_type": "code",
   "execution_count": 19,
   "metadata": {},
   "outputs": [
    {
     "name": "stdout",
     "output_type": "stream",
     "text": [
      "ham\n",
      "spam\n",
      "spam\n"
     ]
    }
   ],
   "source": [
    "spam = 0  # ist block\n",
    "    \n",
    "if spam == 10: # second block\n",
    "    print(\"eggs\")  \n",
    "\n",
    "if spam > 5: # 3rd Block\n",
    "    print(\"bacon\")\n",
    "else:\n",
    "    print(\"ham\")\n",
    "    print(\"spam\")\n",
    "    print(\"spam\")"
   ]
  },
  {
   "cell_type": "markdown",
   "metadata": {},
   "source": [
    "### 8. Write code that prints Hello if 1 is stored in spam, prints Howdy if 2 is stored in spam, and prints Greetings! if anything else is stored in spam.\n",
    "\n"
   ]
  },
  {
   "cell_type": "code",
   "execution_count": 24,
   "metadata": {},
   "outputs": [
    {
     "name": "stdout",
     "output_type": "stream",
     "text": [
      "Enter spam value :4\n",
      "Greetings!!!\n"
     ]
    }
   ],
   "source": [
    "spam = int(input(\"Enter spam value :\"))\n",
    "if spam == 1 :\n",
    "    print(\"Hello\")\n",
    "elif spam == 2:\n",
    "    print(\"Howdy\")\n",
    "else:\n",
    "    print(\"Greetings!!!\")"
   ]
  },
  {
   "cell_type": "markdown",
   "metadata": {},
   "source": [
    "### 9.If your programme is stuck in an endless loop, what keys you’ll press?\n",
    "\n",
    "#### Answer : Press CTRL + c to exit from a infinite loop"
   ]
  },
  {
   "cell_type": "markdown",
   "metadata": {},
   "source": [
    "### 10. How can you tell the difference between break and continue?\n",
    "\n",
    "    Break Statement : \n",
    "    Break statements exist in Python to exit or “break” a for or while conditional loop. When the loop ends, the code picks up\n",
    "    from and executes the next line immediately following the loop that was broken\n",
    "    \n",
    "    Continue Statement:\n",
    "    The continue statement is used to skip code within a loop for certain iterations of the loop. After the code is skipped,\n",
    "    the loop continues where it left off\n"
   ]
  },
  {
   "cell_type": "code",
   "execution_count": 26,
   "metadata": {},
   "outputs": [
    {
     "name": "stdout",
     "output_type": "stream",
     "text": [
      "2\n"
     ]
    }
   ],
   "source": [
    "#Break Example\n",
    "lst = [1,2,3]\n",
    "cnt = 0\n",
    "for i in lst:\n",
    "    cnt+=lst[i]\n",
    "    print(cnt)\n",
    "    if cnt == 2:\n",
    "        break\n",
    "#In this example, the loop will break after the count is equal to 2.\n",
    "\n",
    "\n"
   ]
  },
  {
   "cell_type": "code",
   "execution_count": 27,
   "metadata": {},
   "outputs": [
    {
     "name": "stdout",
     "output_type": "stream",
     "text": [
      "0\n",
      "1\n",
      "3\n"
     ]
    }
   ],
   "source": [
    "# contune example\n",
    "for x in range(4):\n",
    "    if (x==2):\n",
    "        continue\n",
    "    print(x)\n",
    "#This example would print all numbers from 0-4 except 2"
   ]
  },
  {
   "cell_type": "markdown",
   "metadata": {},
   "source": [
    "### 11. In a for loop, what is the difference between range(10), range(0, 10), and range(0, 10, 1)?\n",
    "\n",
    "#### Amswer : There is no difference in the range(10), range(0,10) and range(0,10,1). range by default takes 0 as starting point and 1 as by default increment.\n"
   ]
  },
  {
   "cell_type": "code",
   "execution_count": 29,
   "metadata": {},
   "outputs": [
    {
     "name": "stdout",
     "output_type": "stream",
     "text": [
      "0\n",
      "1\n",
      "2\n",
      "3\n",
      "4\n",
      "5\n",
      "6\n",
      "7\n",
      "8\n",
      "9\n"
     ]
    }
   ],
   "source": [
    "for i in range(10):\n",
    "    print(i)"
   ]
  },
  {
   "cell_type": "code",
   "execution_count": 30,
   "metadata": {},
   "outputs": [
    {
     "name": "stdout",
     "output_type": "stream",
     "text": [
      "0\n",
      "1\n",
      "2\n",
      "3\n",
      "4\n",
      "5\n",
      "6\n",
      "7\n",
      "8\n",
      "9\n"
     ]
    }
   ],
   "source": [
    "for i in range(0,10):\n",
    "    print(i)"
   ]
  },
  {
   "cell_type": "code",
   "execution_count": 31,
   "metadata": {},
   "outputs": [
    {
     "name": "stdout",
     "output_type": "stream",
     "text": [
      "0\n",
      "1\n",
      "2\n",
      "3\n",
      "4\n",
      "5\n",
      "6\n",
      "7\n",
      "8\n",
      "9\n"
     ]
    }
   ],
   "source": [
    "for i in range(0,10,1):\n",
    "    print(i)"
   ]
  },
  {
   "cell_type": "markdown",
   "metadata": {},
   "source": [
    "### 12. Write a short program that prints the numbers 1 to 10 using a for loop. Then write an equivalent program that prints the numbers 1 to 10 using a while loop.\n"
   ]
  },
  {
   "cell_type": "code",
   "execution_count": 32,
   "metadata": {},
   "outputs": [
    {
     "name": "stdout",
     "output_type": "stream",
     "text": [
      "1\n",
      "2\n",
      "3\n",
      "4\n",
      "5\n",
      "6\n",
      "7\n",
      "8\n",
      "9\n",
      "10\n"
     ]
    }
   ],
   "source": [
    "# Using for loop\n",
    "for i in range(1,11):\n",
    "    print(i)"
   ]
  },
  {
   "cell_type": "code",
   "execution_count": 33,
   "metadata": {},
   "outputs": [
    {
     "name": "stdout",
     "output_type": "stream",
     "text": [
      "1\n",
      "2\n",
      "3\n",
      "4\n",
      "5\n",
      "6\n",
      "7\n",
      "8\n",
      "9\n",
      "10\n"
     ]
    }
   ],
   "source": [
    "# Using while loop\n",
    "cnt = 1\n",
    "while cnt <=10:\n",
    "    print(cnt)\n",
    "    cnt+=1"
   ]
  },
  {
   "cell_type": "markdown",
   "metadata": {},
   "source": [
    "### 13. If you had a function named bacon() inside a module named spam, how would you call it after importing spam?\n",
    "\n",
    "    import spam\n",
    "    a = spam.bacon()"
   ]
  }
 ],
 "metadata": {
  "kernelspec": {
   "display_name": "Python 3",
   "language": "python",
   "name": "python3"
  },
  "language_info": {
   "codemirror_mode": {
    "name": "ipython",
    "version": 3
   },
   "file_extension": ".py",
   "mimetype": "text/x-python",
   "name": "python",
   "nbconvert_exporter": "python",
   "pygments_lexer": "ipython3",
   "version": "3.8.3"
  }
 },
 "nbformat": 4,
 "nbformat_minor": 4
}
