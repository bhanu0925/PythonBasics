{
  "nbformat": 4,
  "nbformat_minor": 0,
  "metadata": {
    "colab": {
      "name": "PythonBasics_9.ipynb",
      "provenance": [],
      "collapsed_sections": []
    },
    "kernelspec": {
      "name": "python3",
      "display_name": "Python 3"
    },
    "language_info": {
      "name": "python"
    }
  },
  "cells": [
    {
      "cell_type": "markdown",
      "source": [
        "### **1. To what does a relative path refer?**\n",
        "   The relative path is the path of a file with respect to your current working directory (PWD).\n",
        "\n",
        "### **2. What does an absolute path start with your operating system?**\n",
        "   An absolute path contains the full set of directories from the root of the file system up to your target file or directory. \n",
        "   An absolute path start with the root folder, such as / or C:\\.\n",
        "   \n",
        "### **3. What do the functions os.getcwd() and os.chdir() do?**\n",
        "   getcwd stands for \"get current working directory\". os.getcwd() returns the absolute path of the working directory where Python is currently running as a string str . \n",
        "   chdir stabds of \"change directory\". os.chdir() method in Python used to change the current working directory to specified path. It takes only a single argument as new directory path.\n",
        "\n",
        "### **4. What are the . and .. folders?**\n",
        "   The . is the current directory, while .. signifies the parent directory.\n",
        "   \n",
        "### **5. In C:\\bacon\\eggs\\spam.txt, which part is the dir name, and which part is the base name?**\n",
        "   The basename is the final rightmost segment of the file path . In the above path base name is spam.txt. os.path.basename() can be used to extract base name from the path.\n",
        "   dir name is th folder name in which file exists. In the above path dir name is  C:\\bacon\\eggs . os.path.dirname() can be used to extract dir name form path.\n",
        "   \n",
        "### **6. What are the three “mode” arguments that can be passed to the open() function?**\n",
        "   mode arguments that can be passed to open () function are:\n",
        "   'r'\tOpen a file for reading. (default)\n",
        "   'w'\tOpen a file for writing. Creates a new file if it does not exist or truncates the file if it exists.\n",
        "   'a'\tOpen for appending at the end of the file without truncating it. Creates a new file if it does not exist.\n",
        "   '+'\tOpen a file for updating (reading and writing)\n",
        "   \n",
        "### **7. What happens if an existing file is opened in write mode?**\n",
        "   when a existing file is opened in write mode, contens which were previously present will be overwritten by new content passed.\n",
        "   \n",
        "### **8. How do you tell the difference between read() and readlines()?**\n",
        "   read() reads the entire contents of the file into a string. readline() just reads file till the next line.\n",
        "   \n",
        "### 9. What data structure does a shelf value resemble?\n",
        "   A shelf value resembles a dictionary value; it has keys and values, along with keys() and values() methods that work similarly to the dictionary methods of the same names."
      ],
      "metadata": {
        "id": "gQxlLsxs-oEh"
      }
    }
  ]
}