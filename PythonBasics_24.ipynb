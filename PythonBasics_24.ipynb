{
 "cells": [
  {
   "cell_type": "markdown",
   "metadata": {},
   "source": [
    "## PythonBasics_24"
   ]
  },
  {
   "cell_type": "markdown",
   "metadata": {},
   "source": [
    "### 1. What is the relationship between def statements and lambda expressions ?\n",
    "\n",
    "    Keyword def that marks the start of the function header. A function name to uniquely identify the function. \n",
    "    Function naming follows the same rules of writing identifiers in Python\n",
    "\n",
    "    lambdas are one-line methods without a name.\n",
    "    They work practically the same as any other method in Python\n",
    "    Lambdas differ from normal Python methods because they can have only one expression,\n",
    "    can't contain any statements and their return type is a function object\n"
   ]
  },
  {
   "cell_type": "markdown",
   "metadata": {},
   "source": [
    "### 2. What is the benefit of lambda?\n",
    "    Fewer Lines of Code\n",
    "    Lambda functions are inline functions and thus execute comparatively faster\n",
    "    Many times lambda functions make code much more readable by avoiding the logical jumps caused by function calls\n",
    "    \n"
   ]
  },
  {
   "cell_type": "markdown",
   "metadata": {},
   "source": [
    "### 3. Compare and contrast map, filter, and reduce.\n",
    "\n",
    "    map applies as a transformation to an element.\n",
    "    The map() function iterates through all items in the given iterable and executes the function we \n",
    "    passed as an argument on each of them.\n",
    "    Syntax : map(function, iterable(s))\n",
    "    \n",
    "    \n",
    "    filter accumulates only elements matching a condition.\n",
    "    filter() forms a new list that contains only elements that satisfy a certain condition, i.e. the function we \n",
    "    passed returns True\n",
    "    Syntax : filter(function, iterable(s))\n",
    "    \n",
    "    \n",
    "    reduce accumulates all elements to a single value, by using immutable values\n",
    "    reduce() works by calling the function we passed for the first two items in the sequence. The result returned by \n",
    "    the function is used in another call to function alongside with the next (third in this case), element\n",
    "    Syntax : reduce(function, sequence[, initial])\n",
    "    \n",
    "    \n"
   ]
  },
  {
   "cell_type": "code",
   "execution_count": null,
   "metadata": {},
   "outputs": [],
   "source": [
    "### Map functions\n",
    "fruit = [\"Apple\", \"Banana\", \"Pear\", \"Apricot\", \"Orange\"]\n",
    "map_object = map(lambda s: s[0] == \"A\", fruit)\n",
    "\n",
    "#print(list(map_object))\n",
    "for i in map_object:\n",
    "    print(i)"
   ]
  },
  {
   "cell_type": "code",
   "execution_count": 12,
   "metadata": {},
   "outputs": [
    {
     "name": "stdout",
     "output_type": "stream",
     "text": [
      "Apple\n",
      "Apricot\n"
     ]
    }
   ],
   "source": [
    "### Filter functions\n",
    "fruit = [\"Apple\", \"Banana\", \"Pear\", \"Apricot\", \"Orange\"]\n",
    "filter_object = filter(lambda s: s[0] == \"A\", fruit)\n",
    "\n",
    "for i in filter_object:\n",
    "    print(i)"
   ]
  },
  {
   "cell_type": "code",
   "execution_count": 14,
   "metadata": {},
   "outputs": [
    {
     "name": "stdout",
     "output_type": "stream",
     "text": [
      "16\n",
      "With an initial value: 26\n"
     ]
    }
   ],
   "source": [
    "### Reduce function\n",
    "from functools import reduce\n",
    "\n",
    "list = [2, 4, 7, 3]\n",
    "print(reduce(lambda x, y: x + y, list))\n",
    "print(\"With an initial value: \" + str(reduce(lambda x, y: x + y, list, 10)))"
   ]
  },
  {
   "cell_type": "code",
   "execution_count": 15,
   "metadata": {},
   "outputs": [
    {
     "name": "stdout",
     "output_type": "stream",
     "text": [
      "16\n"
     ]
    }
   ],
   "source": [
    "### Reduce function\n",
    "from functools import reduce\n",
    "\n",
    "def add(x, y):\n",
    "    return x + y\n",
    "\n",
    "list = [2, 4, 7, 3]\n",
    "print(reduce(add, list))"
   ]
  },
  {
   "cell_type": "markdown",
   "metadata": {},
   "source": [
    "### 4. What are function annotations, and how are they used?\n",
    "\n",
    "    Function annotation is the standard way to access the metadata with the arguments and the return value of the function.\n",
    "    These are nothing but some random and optional Python expressions that get allied to different parts of the function.\n",
    "    They get evaluated only during the compile-time and have no significance during the run-time of the code.\n",
    "    They do not have any significance or meaning associated with them until accessed by some third-party libraries.\n",
    "    They are used to type check the functions by declaring the type of the parameters and the return value for the functions.\n",
    "    The string-based annotations help us to improve the help messages.\n",
    "    \n",
    "    Syntax :\n",
    "        def func(a: 'int') -> 'int':\n",
    "            pass\n",
    "    \n",
    "    Annotations for simple parameters:\n",
    "        def func(x: 'float'=10.8, y: 'argument2'):\n",
    "            In the above code the argument, ‘x’ of the function func, \n",
    "            has been annotated to float data type and the argument ‘y’ \n",
    "            has a string-based annotation. The argument can also be \n",
    "            assigned to a default value using a ‘=’ symbol followed \n",
    "            by the default value. These default values are optional to the code.\n",
    "            \n",
    "    Annotations for return values:\n",
    "        def func(a: expression) -> 'int':\n",
    "            The annotations for the return value is written after the ‘->’ symbol.\n",
    "        \n",
    "    \n"
   ]
  },
  {
   "cell_type": "code",
   "execution_count": 2,
   "metadata": {},
   "outputs": [
    {
     "name": "stdout",
     "output_type": "stream",
     "text": [
      "{'n': 'float', 'b': 'int', 'return': 'result'}\n"
     ]
    }
   ],
   "source": [
    "def fib(n:'float', b:'int')-> 'result': \n",
    "    pass\n",
    "print(fib.__annotations__)"
   ]
  },
  {
   "cell_type": "markdown",
   "metadata": {},
   "source": [
    "### 5. What are recursive functions, and how are they used?\n",
    "    A recursive function is a function that calls itself during its execution. \n",
    "    This means that the function will continue to call itself and repeat its behavior until some condition is met to return \n",
    "    a result\n"
   ]
  },
  {
   "cell_type": "code",
   "execution_count": 1,
   "metadata": {},
   "outputs": [
    {
     "data": {
      "text/plain": [
       "6"
      ]
     },
     "execution_count": 1,
     "metadata": {},
     "output_type": "execute_result"
    }
   ],
   "source": [
    "# example\n",
    "def fact(x):\n",
    "    if x == 1 :\n",
    "        return 1\n",
    "    else :\n",
    "        return x * fact(x-1) # recurtion\n",
    "    \n",
    "fact(3)"
   ]
  },
  {
   "cell_type": "markdown",
   "metadata": {},
   "source": [
    "### 6. What are some general design guidelines for coding functions?\n",
    "    1. Use 4-space indentation and no tabs.\n",
    "    2. Use docstrings\n",
    "    3. Wrap linethat they don’t exceed 79 characters\n",
    "    4. Use of regular and updated comments are valuable to both the coders and users\n",
    "    5. Use of trailing commas : in case of tuple -> ('good',)\n",
    "    6. Use Python’s default UTF-8 or ASCII encodings and not any fancy encodings\n",
    "    7. Naming Conventions\n",
    "    8.Characters that should not be used for identifiers :\n",
    "        ‘l’ (lowercase letter el), \n",
    "        ‘O’ (uppercase letter oh), \n",
    "        ‘I’ (uppercase letter eye) as single character variable names as these are similar to the numerals one and zero.\n",
    "    9. Don’t use non-ASCII characters in identifiers\n",
    "    10. Name your classes and functions consistently\n",
    "    11. While naming of function of methods always use self for the first argument\n",
    "    \n",
    "    "
   ]
  },
  {
   "cell_type": "markdown",
   "metadata": {},
   "source": [
    "### 7. Name three or more ways that functions can communicate results to a caller.\n",
    "    1. Function can return single value\n",
    "    2. Can return multiple values, tuple\n",
    "    3. can return list,dictionary\n",
    "    4. can return function object\n",
    "    5. can return class object"
   ]
  }
 ],
 "metadata": {
  "kernelspec": {
   "display_name": "Python 3",
   "language": "python",
   "name": "python3"
  },
  "language_info": {
   "codemirror_mode": {
    "name": "ipython",
    "version": 3
   },
   "file_extension": ".py",
   "mimetype": "text/x-python",
   "name": "python",
   "nbconvert_exporter": "python",
   "pygments_lexer": "ipython3",
   "version": "3.8.3"
  }
 },
 "nbformat": 4,
 "nbformat_minor": 4
}
